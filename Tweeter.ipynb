{
 "cells": [
  {
   "cell_type": "markdown",
   "metadata": {},
   "source": [
    "# A quantitative approach to improve my twitter feed content quality"
   ]
  },
  {
   "cell_type": "markdown",
   "metadata": {},
   "source": [
    "A few observations:\n",
    "- Finding and choosing people to follow is overwhelming.\n",
    "- It is very hard to balance between quantity and quality.\n",
    "- Negative tweets tend to make twitter less enjoyable for me.\n",
    "\n",
    "Let's fix that with data"
   ]
  },
  {
   "cell_type": "code",
   "execution_count": null,
   "metadata": {},
   "outputs": [],
   "source": [
    "import tweepy  \n",
    "import time\n",
    "import pandas as pd\n",
    "from vaderSentiment.vaderSentiment import SentimentIntensityAnalyzer\n",
    "import matplotlib.pyplot as plt\n",
    "%matplotlib inline"
   ]
  },
  {
   "cell_type": "code",
   "execution_count": null,
   "metadata": {},
   "outputs": [],
   "source": [
    "# token must be written in a file called twittercreds\n",
    "import twittercreds\n",
    "ACCESS_TOKEN = twittercreds.access_token  \n",
    "ACCESS_TOKEN_SECRET = twittercreds.access_token_secret\n",
    "API_KEY = twittercreds.consumer_key\n",
    "API_SECRET = twittercreds.consumer_secret"
   ]
  },
  {
   "cell_type": "code",
   "execution_count": null,
   "metadata": {},
   "outputs": [],
   "source": [
    "MY_TWITTER_HANDLE = 'pierre_ge'"
   ]
  },
  {
   "cell_type": "markdown",
   "metadata": {},
   "source": [
    "## Login to twitter"
   ]
  },
  {
   "cell_type": "code",
   "execution_count": null,
   "metadata": {},
   "outputs": [],
   "source": [
    "auth = tweepy.OAuthHandler(API_KEY, API_SECRET)  \n",
    "auth.set_access_token(ACCESS_TOKEN, ACCESS_TOKEN_SECRET)  \n",
    "api = tweepy.API(auth)"
   ]
  },
  {
   "cell_type": "markdown",
   "metadata": {},
   "source": [
    "## Tweets"
   ]
  },
  {
   "cell_type": "code",
   "execution_count": null,
   "metadata": {},
   "outputs": [],
   "source": [
    "def get_tweets(name, n=10, exclude_replies=False):\n",
    "    '''Get the last n tweets from someone'''\n",
    "    tweets = []\n",
    "    for i, tweet in enumerate(tweepy.Cursor(api.user_timeline, screen_name=name, exclude_replies=exclude_replies).items()):                      \n",
    "        tweets.append(tweet)\n",
    "        if i >= n:\n",
    "            break\n",
    "    return tweets"
   ]
  },
  {
   "cell_type": "code",
   "execution_count": null,
   "metadata": {},
   "outputs": [],
   "source": [
    "def get_tweets_as_df(name, n=10, exclude_replies=False):\n",
    "    ''' Because dataframe are so easy to manipulate'''\n",
    "    raw = get_tweets(name, n, exclude_replies)\n",
    "    return pd.DataFrame([obj._json for obj in raw])"
   ]
  },
  {
   "cell_type": "code",
   "execution_count": null,
   "metadata": {},
   "outputs": [],
   "source": [
    "df_tweets = get_tweets_as_df(MY_TWITTER_HANDLE)"
   ]
  },
  {
   "cell_type": "markdown",
   "metadata": {},
   "source": [
    "Get my last two tweets"
   ]
  },
  {
   "cell_type": "code",
   "execution_count": null,
   "metadata": {},
   "outputs": [],
   "source": [
    "df_tweets.head(2)"
   ]
  },
  {
   "cell_type": "markdown",
   "metadata": {},
   "source": [
    "## Following / friends"
   ]
  },
  {
   "cell_type": "markdown",
   "metadata": {},
   "source": [
    "Collect the data on the people I'm following"
   ]
  },
  {
   "cell_type": "code",
   "execution_count": null,
   "metadata": {},
   "outputs": [],
   "source": [
    "def get_friends(name):\n",
    "    friends = []  \n",
    "    for page in tweepy.Cursor(api.friends_ids, screen_name=name).pages():  \n",
    "        friends.extend(page)\n",
    "    return friends"
   ]
  },
  {
   "cell_type": "code",
   "execution_count": null,
   "metadata": {},
   "outputs": [],
   "source": [
    "def get_name_from_id(idtwitter):\n",
    "    return api.get_user(idtwitter)._json['screen_name']"
   ]
  },
  {
   "cell_type": "code",
   "execution_count": null,
   "metadata": {},
   "outputs": [],
   "source": [
    "friends_id = get_friends('pierre_ge')\n",
    "friends_names = [get_name_from_id(i) for i in friends_id]"
   ]
  },
  {
   "cell_type": "markdown",
   "metadata": {},
   "source": [
    "## Collect friends tweets"
   ]
  },
  {
   "cell_type": "code",
   "execution_count": null,
   "metadata": {},
   "outputs": [],
   "source": [
    "df_friendstweets = pd.DataFrame()\n",
    "for friend in friends_names:\n",
    "    while True:\n",
    "        try:\n",
    "            friend_df = get_tweets_as_df(friend, n=10000)\n",
    "            break\n",
    "        except:\n",
    "            print('Query failed, possible rate limiting')\n",
    "            time.sleep(60*5)\n",
    "    friend_df['name'] = friend\n",
    "    df_friendstweets = pd.concat([df_friendstweets, friend_df], sort=False)"
   ]
  },
  {
   "cell_type": "code",
   "execution_count": null,
   "metadata": {},
   "outputs": [],
   "source": [
    "len(df_friendstweets.name.unique())"
   ]
  },
  {
   "cell_type": "markdown",
   "metadata": {},
   "source": [
    "## Find silent/noisy accounts"
   ]
  },
  {
   "cell_type": "code",
   "execution_count": null,
   "metadata": {},
   "outputs": [],
   "source": [
    "silent_accounts = []\n",
    "for name in friends_names:\n",
    "    friend_df = df_friendstweets[df_friendstweets.name == name].head(40)\n",
    "    date = pd.to_datetime(friend_df.created_at).mean()\n",
    "    silent_accounts.append({'name':name, 'mean_date':date})"
   ]
  },
  {
   "cell_type": "code",
   "execution_count": null,
   "metadata": {},
   "outputs": [],
   "source": [
    "threshold_low = 360 # days\n",
    "threshold_high = 1 # days"
   ]
  },
  {
   "cell_type": "markdown",
   "metadata": {},
   "source": [
    "#### Consider unfollowing:"
   ]
  },
  {
   "cell_type": "markdown",
   "metadata": {},
   "source": [
    "Silent"
   ]
  },
  {
   "cell_type": "code",
   "execution_count": null,
   "metadata": {},
   "outputs": [],
   "source": [
    "for account in silent_accounts:\n",
    "    if account['mean_date'].tz_localize(None) < pd.datetime.now() - pd.Timedelta(days=threshold_low):\n",
    "        print('https://twitter.com/{}'.format(account['name']))"
   ]
  },
  {
   "cell_type": "markdown",
   "metadata": {},
   "source": [
    "Noisy"
   ]
  },
  {
   "cell_type": "code",
   "execution_count": null,
   "metadata": {},
   "outputs": [],
   "source": [
    "for account in silent_accounts:\n",
    "    if account['mean_date'].tz_localize(None) > pd.datetime.now() - pd.Timedelta(days=threshold_high):\n",
    "        print('https://twitter.com/{}'.format(account['name']))"
   ]
  },
  {
   "cell_type": "markdown",
   "metadata": {},
   "source": [
    "## Get new potential following from likes"
   ]
  },
  {
   "cell_type": "code",
   "execution_count": null,
   "metadata": {},
   "outputs": [],
   "source": [
    "def get_likes(name, n=100):\n",
    "    '''Get the last n tweets from someone'''\n",
    "    tweets = []\n",
    "    for i, tweet in enumerate(tweepy.Cursor(api.favorites, screen_name=name).items()):                      \n",
    "        tweets.append(tweet)\n",
    "        if i >= n:\n",
    "            break\n",
    "    return tweets"
   ]
  },
  {
   "cell_type": "code",
   "execution_count": null,
   "metadata": {},
   "outputs": [],
   "source": [
    "def get_likes_as_df(name, n=100):\n",
    "    ''' Because dataframe are so easy to manipulate'''\n",
    "    raw = get_likes(name, n)\n",
    "    return pd.DataFrame([obj._json for obj in raw])"
   ]
  },
  {
   "cell_type": "code",
   "execution_count": null,
   "metadata": {},
   "outputs": [],
   "source": [
    "df_likes = get_likes_as_df(MY_TWITTER_HANDLE)"
   ]
  },
  {
   "cell_type": "code",
   "execution_count": null,
   "metadata": {},
   "outputs": [],
   "source": [
    "liked_user = df_likes.user.apply(lambda x :x['screen_name']).value_counts()\n",
    "liked_user.head(3)"
   ]
  },
  {
   "cell_type": "code",
   "execution_count": null,
   "metadata": {},
   "outputs": [],
   "source": [
    "list(liked_user.index.values[:4])"
   ]
  },
  {
   "cell_type": "code",
   "execution_count": null,
   "metadata": {},
   "outputs": [],
   "source": [
    "score = {}\n",
    "def upgrade_score(row):\n",
    "    mentions = row['entities']['user_mentions']\n",
    "    for m in mentions:\n",
    "        name = m['screen_name']\n",
    "        if name in score:\n",
    "            score[name] += 1\n",
    "        else:\n",
    "            score[name] = 1\n",
    "_ = df_friendstweets[df_friendstweets.name.isin(list(liked_user.index.values[:4]))].apply(upgrade_score, axis=1)"
   ]
  },
  {
   "cell_type": "markdown",
   "metadata": {},
   "source": [
    "Consider following"
   ]
  },
  {
   "cell_type": "code",
   "execution_count": null,
   "metadata": {
    "scrolled": false
   },
   "outputs": [],
   "source": [
    "[(k, score[k]) for k in sorted(score, key=score.get, reverse=True)][:20]"
   ]
  },
  {
   "cell_type": "markdown",
   "metadata": {},
   "source": [
    "## Unfollow the negative content"
   ]
  },
  {
   "cell_type": "code",
   "execution_count": null,
   "metadata": {},
   "outputs": [],
   "source": [
    "analyzer = SentimentIntensityAnalyzer()"
   ]
  },
  {
   "cell_type": "code",
   "execution_count": null,
   "metadata": {},
   "outputs": [],
   "source": [
    "df_friendstweets['sentiment_compound'] = df_friendstweets.text.apply(lambda sentence: analyzer.polarity_scores(sentence)['compound'])\n",
    "df_friendstweets['neu'] = df_friendstweets.text.apply(lambda sentence: analyzer.polarity_scores(sentence)['neu'])\n",
    "df_friendstweets['pos'] = df_friendstweets.text.apply(lambda sentence: analyzer.polarity_scores(sentence)['pos'])\n",
    "df_friendstweets['neg'] = df_friendstweets.text.apply(lambda sentence: analyzer.polarity_scores(sentence)['neg'])"
   ]
  },
  {
   "cell_type": "code",
   "execution_count": null,
   "metadata": {},
   "outputs": [],
   "source": [
    "df_friendstweets_sub = df_friendstweets[['sentiment_compound', 'neu', 'pos', 'neg', 'name']]"
   ]
  },
  {
   "cell_type": "code",
   "execution_count": null,
   "metadata": {},
   "outputs": [],
   "source": [
    "df_friendstweets_sentiment = df_friendstweets_sub.groupby(['name']).mean().sort_values(by='sentiment_compound')"
   ]
  },
  {
   "cell_type": "code",
   "execution_count": null,
   "metadata": {},
   "outputs": [],
   "source": [
    "df_friendstweets_sentiment.sample()"
   ]
  },
  {
   "cell_type": "code",
   "execution_count": null,
   "metadata": {},
   "outputs": [],
   "source": [
    "df_friendstweets_sentiment['neu'] = df_friendstweets_sentiment['neu']/2"
   ]
  },
  {
   "cell_type": "code",
   "execution_count": null,
   "metadata": {},
   "outputs": [],
   "source": [
    "df_friendstweets_sentiment.sort_values(by='neg').plot(kind='bar', figsize=(40,9))"
   ]
  },
  {
   "cell_type": "markdown",
   "metadata": {},
   "source": [
    "Consider unfollowing"
   ]
  },
  {
   "cell_type": "code",
   "execution_count": null,
   "metadata": {},
   "outputs": [],
   "source": [
    "df_friendstweets_sentiment.sort_values(by='neg').tail(20)"
   ]
  },
  {
   "cell_type": "code",
   "execution_count": null,
   "metadata": {},
   "outputs": [],
   "source": []
  }
 ],
 "metadata": {
  "kernelspec": {
   "display_name": "Python 3",
   "language": "python",
   "name": "python3"
  },
  "language_info": {
   "codemirror_mode": {
    "name": "ipython",
    "version": 3
   },
   "file_extension": ".py",
   "mimetype": "text/x-python",
   "name": "python",
   "nbconvert_exporter": "python",
   "pygments_lexer": "ipython3",
   "version": "3.7.3"
  }
 },
 "nbformat": 4,
 "nbformat_minor": 2
}
